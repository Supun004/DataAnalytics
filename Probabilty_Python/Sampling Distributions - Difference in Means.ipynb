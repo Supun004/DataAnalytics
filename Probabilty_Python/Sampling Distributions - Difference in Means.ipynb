{
 "cells": [
  {
   "cell_type": "markdown",
   "metadata": {},
   "source": [
    "### Confidence Interval - Difference In Means\n",
    "\n",
    "Here you will look through the example from the last video, but you will also go a couple of steps further into what might actually be going on with this data."
   ]
  },
  {
   "cell_type": "code",
   "execution_count": 1,
   "metadata": {},
   "outputs": [],
   "source": [
    "import pandas as pd\n",
    "import numpy as np\n",
    "import matplotlib.pyplot as plt\n",
    "\n",
    "%matplotlib inline\n",
    "np.random.seed(42)\n",
    "\n",
    "full_data = pd.read_csv('coffee_dataset.csv')\n",
    "sample_data = full_data.sample(200)"
   ]
  },
  {
   "cell_type": "markdown",
   "metadata": {},
   "source": [
    "`1.` For 10,000 iterations, bootstrap sample your sample data, compute the difference in the average heights for coffee and non-coffee drinkers.  Build a 99% confidence interval using your sampling distribution.  Use your interval to start answering the first quiz question below."
   ]
  },
  {
   "cell_type": "code",
   "execution_count": 2,
   "metadata": {},
   "outputs": [
    {
     "data": {
      "text/plain": [
       "(0.10258900080919674, 2.5388333707966284)"
      ]
     },
     "execution_count": 2,
     "metadata": {},
     "output_type": "execute_result"
    },
    {
     "data": {
      "image/png": "[encoded data removed]",
      "text/plain": [
       "<matplotlib.figure.Figure at 0x7f8648c25978>"
      ]
     },
     "metadata": {
      "needs_background": "light"
     },
     "output_type": "display_data"
    }
   ],
   "source": [
    "list_diffs = []\n",
    "for _ in range(10000):\n",
    "    bootsample = sample_data.sample(200, replace=True)\n",
    "    avg_height_coffee = bootsample[bootsample['drinks_coffee']]['height'].mean()\n",
    "    avg_height_non_coffee = bootsample[bootsample['drinks_coffee']==False]['height'].mean()\n",
    "\n",
    "    diff_mean_height = avg_height_coffee - avg_height_non_coffee\n",
    "    list_diffs.append(diff_mean_height)\n",
    "\n",
    "plt.hist(list_diffs)\n",
    "\n",
    "np.percentile(list_diffs, 0.5), np.percentile(list_diffs,99.5)"
   ]
  },
  {
   "cell_type": "markdown",
   "metadata": {},
   "source": [
    "`2.` For 10,000 iterations, bootstrap sample your sample data, compute the difference in the average heights for those older than 21 and those younger than 21.  Build a 99% confidence interval using your sampling distribution.  Use your interval to finish answering the first quiz question below.  "
   ]
  },
  {
   "cell_type": "code",
   "execution_count": null,
   "metadata": {
    "collapsed": true
   },
   "outputs": [],
   "source": [
    "list_diffs = []\n",
    "for _ in range(10000):\n",
    "    bootsample = sample_data.sample(200, replace=True)\n",
    "\n",
    "    avg_height_older = bootsample[bootsample['age']=='>=21']['height'].mean()\n",
    "    avg_height_younger = bootsample[bootsample['age']!='>=21']['height'].mean()\n",
    "\n",
    "    diff_avg_height_yno = avg_height_older - avg_height_younger\n",
    "    list_diffs.append(diff_avg_height_yno)\n",
    "    \n",
    "plt.hist(list_diffs)\n",
    "\n",
    "np.percentile(list_diffs, 0.5), np.percentile(list_diffs, 99.5)"
   ]
  },
  {
   "cell_type": "markdown",
   "metadata": {},
   "source": [
    "`3.` For 10,000 iterations bootstrap your sample data, compute the **difference** in the average height for coffee drinkers and the average height for non-coffee drinkers for individuals **under** 21 years old.  Using your sampling distribution, build a 95% confidence interval.  Use your interval to start answering question 2 below."
   ]
  },
  {
   "cell_type": "code",
   "execution_count": 12,
   "metadata": {},
   "outputs": [
    {
     "data": {
      "text/plain": [
       "(-2.5931557940679251, -1.0593651244624338)"
      ]
     },
     "execution_count": 12,
     "metadata": {},
     "output_type": "execute_result"
    },
    {
     "data": {
      "image/png": "[encoded data removed]",
      "text/plain": [
       "<matplotlib.figure.Figure at 0x7f86469da320>"
      ]
     },
     "metadata": {
      "needs_background": "light"
     },
     "output_type": "display_data"
    }
   ],
   "source": [
    "list_diffs=[]\n",
    "\n",
    "for _ in range(10000):\n",
    "    bootsample = sample_data.sample(200, replace=True)\n",
    "    avg_height_under_coffee = bootsample[(bootsample['age']=='<21') & (bootsample['drinks_coffee']==True)]['height'].mean()\n",
    "    avg_height_under_non_coffee = bootsample[(bootsample['age']=='<21') & (bootsample['drinks_coffee']==False)]['height'].mean()\n",
    "\n",
    "    diff = avg_height_under_coffee - avg_height_under_non_coffee\n",
    "    list_diffs.append(diff)\n",
    "    \n",
    "plt.hist(list_diffs)\n",
    "np.percentile(list_diffs, 2.5), np.percentile(list_diffs,97.5)"
   ]
  },
  {
   "cell_type": "markdown",
   "metadata": {},
   "source": [
    "`4.` For 10,000 iterations bootstrap your sample data, compute the **difference** in the average height for coffee drinkers and the average height for non-coffee drinkers for individuals **over** 21 years old.  Using your sampling distribution, build a 95% confidence interval. Use your interval to finish answering the second quiz question below. As well as the following questions. "
   ]
  },
  {
   "cell_type": "code",
   "execution_count": 16,
   "metadata": {},
   "outputs": [
    {
     "data": {
      "text/plain": [
       "(-4.4236215624174013, -1.8482176570248883)"
      ]
     },
     "execution_count": 16,
     "metadata": {},
     "output_type": "execute_result"
    },
    {
     "data": {
      "image/png": "[encoded data removed]",
      "text/plain": [
       "<matplotlib.figure.Figure at 0x7f8646b201d0>"
      ]
     },
     "metadata": {
      "needs_background": "light"
     },
     "output_type": "display_data"
    }
   ],
   "source": [
    "list_diffs=[]\n",
    "\n",
    "for _ in range(10000):\n",
    "    bootsample = sample_data.sample(200, replace=True)\n",
    "    avg_height_over_coffee = bootsample[(bootsample['age']=='>=21') & (bootsample['drinks_coffee']==True)]['height'].mean()\n",
    "    avg_height_over_non_coffee = bootsample[(bootsample['age']=='>=21') & (bootsample['drinks_coffee']==False)]['height'].mean()\n",
    "\n",
    "    diff = avg_height_over_coffee - avg_height_over_non_coffee\n",
    "    list_diffs.append(diff)\n",
    "    \n",
    "plt.hist(list_diffs)\n",
    "np.percentile(list_diffs, 2.5), np.percentile(list_diffs,97.5)"
   ]
  }
 ],
 "metadata": {
  "kernelspec": {
   "display_name": "Python 3",
   "language": "python",
   "name": "python3"
  },
  "language_info": {
   "codemirror_mode": {
    "name": "ipython",
    "version": 3
   },
   "file_extension": ".py",
   "mimetype": "text/x-python",
   "name": "python",
   "nbconvert_exporter": "python",
   "pygments_lexer": "ipython3",
   "version": "3.6.3"
  }
 },
 "nbformat": 4,
 "nbformat_minor": 2
}
