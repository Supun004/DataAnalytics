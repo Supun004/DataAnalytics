{
 "cells": [
  {
   "cell_type": "markdown",
   "metadata": {
    "collapsed": true
   },
   "source": [
    "# Cancer Test Results"
   ]
  },
  {
   "cell_type": "code",
   "execution_count": 3,
   "metadata": {},
   "outputs": [
    {
     "data": {
      "text/html": [
       "<div>\n",
       "<style scoped>\n",
       "    .dataframe tbody tr th:only-of-type {\n",
       "        vertical-align: middle;\n",
       "    }\n",
       "\n",
       "    .dataframe tbody tr th {\n",
       "        vertical-align: top;\n",
       "    }\n",
       "\n",
       "    .dataframe thead th {\n",
       "        text-align: right;\n",
       "    }\n",
       "</style>\n",
       "<table border=\"1\" class=\"dataframe\">\n",
       "  <thead>\n",
       "    <tr style=\"text-align: right;\">\n",
       "      <th></th>\n",
       "      <th>patient_id</th>\n",
       "      <th>test_result</th>\n",
       "      <th>has_cancer</th>\n",
       "    </tr>\n",
       "  </thead>\n",
       "  <tbody>\n",
       "    <tr>\n",
       "      <th>0</th>\n",
       "      <td>79452</td>\n",
       "      <td>Negative</td>\n",
       "      <td>False</td>\n",
       "    </tr>\n",
       "    <tr>\n",
       "      <th>1</th>\n",
       "      <td>81667</td>\n",
       "      <td>Positive</td>\n",
       "      <td>True</td>\n",
       "    </tr>\n",
       "    <tr>\n",
       "      <th>2</th>\n",
       "      <td>76297</td>\n",
       "      <td>Negative</td>\n",
       "      <td>False</td>\n",
       "    </tr>\n",
       "    <tr>\n",
       "      <th>3</th>\n",
       "      <td>36593</td>\n",
       "      <td>Negative</td>\n",
       "      <td>False</td>\n",
       "    </tr>\n",
       "    <tr>\n",
       "      <th>4</th>\n",
       "      <td>53717</td>\n",
       "      <td>Negative</td>\n",
       "      <td>False</td>\n",
       "    </tr>\n",
       "  </tbody>\n",
       "</table>\n",
       "</div>"
      ],
      "text/plain": [
       "   patient_id test_result  has_cancer\n",
       "0       79452    Negative       False\n",
       "1       81667    Positive        True\n",
       "2       76297    Negative       False\n",
       "3       36593    Negative       False\n",
       "4       53717    Negative       False"
      ]
     },
     "execution_count": 3,
     "metadata": {},
     "output_type": "execute_result"
    }
   ],
   "source": [
    "# load dataset\n",
    "import pandas as pd\n",
    "\n",
    "cancer_test_data = pd.read_csv('cancer_test_data.csv')\n",
    "\n",
    "cancer_test_data.head()"
   ]
  },
  {
   "cell_type": "code",
   "execution_count": 44,
   "metadata": {},
   "outputs": [
    {
     "name": "stdout",
     "output_type": "stream",
     "text": [
      "2914\n"
     ]
    }
   ],
   "source": [
    "# number of patients\n",
    "i_tot_patients = len(cancer_test_data)\n",
    "print(i_tot_patients)"
   ]
  },
  {
   "cell_type": "code",
   "execution_count": 48,
   "metadata": {},
   "outputs": [
    {
     "name": "stdout",
     "output_type": "stream",
     "text": [
      "306\n"
     ]
    }
   ],
   "source": [
    "# number of patients with cancer\n",
    "df_cancer_patients =cancer_test_data.query('has_cancer==True')\n",
    "print(len(df_cancer_patients))"
   ]
  },
  {
   "cell_type": "code",
   "execution_count": 49,
   "metadata": {},
   "outputs": [
    {
     "name": "stdout",
     "output_type": "stream",
     "text": [
      "2608\n"
     ]
    }
   ],
   "source": [
    "# number of patients without cancer\n",
    "df_noncancer_patients = cancer_test_data.query('has_cancer==False')\n",
    "print(len(df_noncancer_patients))"
   ]
  },
  {
   "cell_type": "code",
   "execution_count": 30,
   "metadata": {},
   "outputs": [
    {
     "name": "stdout",
     "output_type": "stream",
     "text": [
      "0.10501029512697323\n"
     ]
    }
   ],
   "source": [
    "# proportion of patients with cancer\n",
    "f_cancer_prop = len(df_cancer_patients)/i_tot_patients\n",
    "print(f_cancer_prop)"
   ]
  },
  {
   "cell_type": "code",
   "execution_count": 31,
   "metadata": {},
   "outputs": [
    {
     "name": "stdout",
     "output_type": "stream",
     "text": [
      "0.8949897048730268\n"
     ]
    }
   ],
   "source": [
    "# proportion of patients without cancer\n",
    "f_noncancer_prop = len(df_noncancer_patients)/i_tot_patients\n",
    "print(f_noncancer_prop)"
   ]
  },
  {
   "cell_type": "code",
   "execution_count": 33,
   "metadata": {},
   "outputs": [
    {
     "name": "stdout",
     "output_type": "stream",
     "text": [
      "0.9052287581699346\n"
     ]
    }
   ],
   "source": [
    "# proportion of patients with cancer who test positive\n",
    "df_patient_cancer_pos = df_cancer_patients.query(\"test_result=='Positive'\")\n",
    "f_cancer_pos_prop = len(df_patient_cancer_pos)/len(df_cancer_patients)\n",
    "print(f_cancer_pos_prop)"
   ]
  },
  {
   "cell_type": "code",
   "execution_count": 34,
   "metadata": {},
   "outputs": [
    {
     "name": "stdout",
     "output_type": "stream",
     "text": [
      "0.09477124183006536\n"
     ]
    }
   ],
   "source": [
    "# proportion of patients with cancer who test negative\n",
    "df_patient_cancer_neg = df_cancer_patients.query(\"test_result=='Negative'\")\n",
    "f_cancer_neg_prop = len(df_patient_cancer_neg)/len(df_cancer_patients)\n",
    "print(f_cancer_neg_prop)"
   ]
  },
  {
   "cell_type": "code",
   "execution_count": 39,
   "metadata": {},
   "outputs": [
    {
     "name": "stdout",
     "output_type": "stream",
     "text": [
      "0.2036042944785276\n"
     ]
    }
   ],
   "source": [
    "# proportion of patients without cancer who test positive\n",
    "df_patient_noncancer_pos = df_noncancer_patients.query(\"test_result=='Positive'\")\n",
    "f_noncancer_pos_prop = len(df_patient_noncancer_pos)/len(df_noncancer_patients)\n",
    "print(f_noncancer_pos_prop)"
   ]
  },
  {
   "cell_type": "code",
   "execution_count": 40,
   "metadata": {},
   "outputs": [
    {
     "name": "stdout",
     "output_type": "stream",
     "text": [
      "0.7963957055214724\n"
     ]
    }
   ],
   "source": [
    "# proportion of patients without cancer who test negative\n",
    "df_patient_noncancer_neg = df_noncancer_patients.query(\"test_result=='Negative'\")\n",
    "f_noncancer_neg_prop = len(df_patient_noncancer_neg)/len(df_noncancer_patients)\n",
    "print(f_noncancer_neg_prop)"
   ]
  }
 ],
 "metadata": {
  "kernelspec": {
   "display_name": "Python 3",
   "language": "python",
   "name": "python3"
  },
  "language_info": {
   "codemirror_mode": {
    "name": "ipython",
    "version": 3
   },
   "file_extension": ".py",
   "mimetype": "text/x-python",
   "name": "python",
   "nbconvert_exporter": "python",
   "pygments_lexer": "ipython3",
   "version": "3.6.3"
  }
 },
 "nbformat": 4,
 "nbformat_minor": 2
}
